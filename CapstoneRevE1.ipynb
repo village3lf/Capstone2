{
 "cells": [
  {
   "cell_type": "code",
   "execution_count": 1,
   "metadata": {},
   "outputs": [
    {
     "name": "stderr",
     "output_type": "stream",
     "text": [
      "Using TensorFlow backend.\n"
     ]
    },
    {
     "name": "stdout",
     "output_type": "stream",
     "text": [
      "TensorFlow version: 1.13.1\n"
     ]
    }
   ],
   "source": [
    "import numpy as np\n",
    "from matplotlib import pyplot as plt\n",
    "%matplotlib inline\n",
    "import os\n",
    "import glob\n",
    "import random\n",
    "import shutil\n",
    "from keras.preprocessing.image import load_img, img_to_array\n",
    "#import bcolz\n",
    "import csv\n",
    "import subprocess\n",
    "from keras.preprocessing.image import ImageDataGenerator\n",
    "from keras.applications.densenet import preprocess_input\n",
    "from keras.applications.densenet import DenseNet121\n",
    "from keras import optimizers\n",
    "from keras.callbacks import ModelCheckpoint, EarlyStopping, TensorBoard\n",
    "import itertools\n",
    "from sklearn.metrics import confusion_matrix\n",
    "from tqdm import tqdm\n",
    "import cv2\n",
    "import tensorflow as tf\n",
    "import keras\n",
    "from keras.models import Model, Sequential \n",
    "from keras.layers import Input, Dense, Flatten, Dropout, LeakyReLU, BatchNormalization, Conv2D, MaxPool2D\n",
    "from keras.callbacks import ReduceLROnPlateau\n",
    "from keras.preprocessing.image import ImageDataGenerator\n",
    "from sklearn.metrics import accuracy_score\n",
    "%matplotlib inline\n",
    "print (\"TensorFlow version: \" + tf.__version__)"
   ]
  },
  {
   "cell_type": "code",
   "execution_count": 2,
   "metadata": {},
   "outputs": [],
   "source": [
    "img_path=\"data/xray_chest/images/\"\n",
    "img_height=224 #299\n",
    "img_width=224 #299"
   ]
  },
  {
   "cell_type": "code",
   "execution_count": null,
   "metadata": {},
   "outputs": [],
   "source": [
    "def save_array(fname, arr): c=bcolz.carray(arr, rootdir=fname, mode='w'); c.flush()\n",
    "def load_array(fname): return bcolz.open(fname)[:]\n",
    "\n",
    "def plot_img(img, title, count, cols, plot_axis=False):\n",
    "    a = fig.add_subplot(1, cols, count)\n",
    "    # if 'img' is a NumPy array, then it has already been loaded; just show it\n",
    "    if type(img).__module__ == np.__name__:\n",
    "        plt.imshow(img)\n",
    "    else:\n",
    "        plt.imshow(load_img(img))\n",
    "    a.set_title(title,fontsize=10)\n",
    "    if plot_axis is False:\n",
    "        plt.axis('off')"
   ]
  },
  {
   "cell_type": "code",
   "execution_count": null,
   "metadata": {},
   "outputs": [],
   "source": [
    "def create_label_directories(csv_filename, img_path, is_one_v_all=False, one_v_all_label=\"Pneumonia\"):\n",
    "    directories = set()\n",
    "    with open(csv_filename, 'r') as csvfile:\n",
    "        reader = csv.reader(csvfile, delimiter=',')\n",
    "        next(csvfile) # skip header row\n",
    "        for row in reader:\n",
    "            img_filename = str(row[0])\n",
    "            labels = str(row[1])\n",
    "            for label in labels.split('|'):\n",
    "                if (is_one_v_all is True) and (label != one_v_all_label):\n",
    "                    label = \"ALL\"\n",
    "                src_file = os.path.join(img_path,img_filename)\n",
    "                label = \"_\".join(label.split())\n",
    "                dst_train_dir = os.path.join(img_path,\"train\",label)\n",
    "                dst_train_file = os.path.join(dst_train_dir,img_filename)\n",
    "                dst_valid_dir = os.path.join(img_path,\"valid\",label)\n",
    "                dst_test_dir = os.path.join(img_path,\"test\",label)\n",
    "                if not os.path.exists(dst_train_dir):\n",
    "                    os.makedirs(dst_train_dir)\n",
    "                    directories.add(label)\n",
    "                if not os.path.exists(dst_valid_dir):\n",
    "                    os.makedirs(dst_valid_dir)\n",
    "                if not os.path.exists(dst_test_dir):\n",
    "                    os.makedirs(dst_test_dir)\n",
    "                src_file_abs = os.path.join(os.getcwd(),src_file)\n",
    "                dst_train_file_abs = os.path.join(os.getcwd(),dst_train_file)\n",
    "                #print(\"copy: \" + src_file_abs + \" to: \" + dst_train_file_abs)\n",
    "                if not os.path.exists(dst_train_file_abs):\n",
    "                    os.symlink(src_file_abs, dst_train_file_abs)\n",
    "    return list(directories)\n",
    "\n",
    "is_one_v_all = True\n",
    "one_v_all_label = \"Pneumonia\"\n",
    "print(img_path)\n",
    "directories = create_label_directories(\"data/xray_chest/Data_Entry_2017.csv\", img_path, is_one_v_all, one_v_all_label)\n",
    "print(directories)"
   ]
  },
  {
   "cell_type": "code",
   "execution_count": null,
   "metadata": {},
   "outputs": [],
   "source": [
    "def get_per_label_count(directories):\n",
    "    per_label_count = []\n",
    "    for ii in range(len(directories)):\n",
    "        #print(directories[ii])\n",
    "        path, dirs, files = os.walk(os.path.join(img_path,\"train\",directories[ii])).__next__()\n",
    "        file_count = len(files)\n",
    "        per_label_count.append(file_count)\n",
    "    return per_label_count\n",
    "        \n",
    "print(directories)\n",
    "per_label_count = get_per_label_count(directories) \n",
    "print(per_label_count)"
   ]
  },
  {
   "cell_type": "code",
   "execution_count": null,
   "metadata": {},
   "outputs": [],
   "source": [
    "def upsample(directories, per_label_count, iqr):\n",
    "    for ii in range(len(per_label_count)):\n",
    "        label = directories[ii]\n",
    "        count = per_label_count[ii]\n",
    "        if count < iqr:\n",
    "            offset = iqr-count\n",
    "#            subprocess.call(['./batch-augment.sh', os.path.join(os.getcwd(),img_path,\"train\",label), str(offset)])\n",
    "    return get_per_label_count(directories)\n",
    "\n",
    "print(directories)\n",
    "print(per_label_count)\n",
    "#print(label_batch_size)\n",
    "per_label_count_upsampled = upsample(directories, per_label_count, 8430)#label_batch_size)\n",
    "print(per_label_count_upsampled)"
   ]
  },
  {
   "cell_type": "code",
   "execution_count": null,
   "metadata": {},
   "outputs": [],
   "source": [
    "def downsample(directories, per_label_count):\n",
    "    label_idx = np.argmin(per_label_count)\n",
    "    #print(label_idx)\n",
    "    downsample_count = per_label_count[label_idx]\n",
    "    #print(downsample_count)\n",
    "    for ii in range(len(per_label_count)):\n",
    "        label = directories[ii]\n",
    "        src_train_dir = os.path.join(img_path,\"train\",label)\n",
    "        all_img_paths = glob.glob(os.path.join(src_train_dir,\"*.*\"))\n",
    "        np.random.shuffle(all_img_paths)\n",
    "        if len(all_img_paths) != downsample_count:\n",
    "            imgs_to_remove = all_img_paths[downsample_count:]\n",
    "            #print(len(imgs_to_remove))\n",
    "            for file in imgs_to_remove:\n",
    "                file_abs = os.path.join(os.getcwd(),file)\n",
    "                #print(\"remove file: \" + file_abs)\n",
    "                os.remove(file_abs)\n",
    "    return get_per_label_count(directories)\n",
    "                \n",
    "print(directories)\n",
    "print(per_label_count_upsampled)\n",
    "per_label_count_downsampled = downsample(directories, per_label_count_upsampled)\n",
    "print(per_label_count_downsampled)"
   ]
  },
  {
   "cell_type": "code",
   "execution_count": null,
   "metadata": {},
   "outputs": [],
   "source": [
    "def split_train_valid_test(directories, per_label_count, valid_pct, test_pct):\n",
    "    for ii in range(len(directories)):\n",
    "        all_img_paths = glob.glob(os.path.join(img_path,\"train\",directories[ii],\"*.*\"))\n",
    "        np.random.shuffle(all_img_paths)\n",
    "        label_count = per_label_count[ii]\n",
    "        valid_count = int(label_count*valid_pct)\n",
    "        valid_files = all_img_paths[:valid_count]\n",
    "        all_img_paths[:valid_count] = []\n",
    "        test_count = int(label_count*test_pct)\n",
    "        test_files = all_img_paths[:test_count]\n",
    "        all_img_paths[:test_count] = []\n",
    "        #print(len(valid_files))\n",
    "        #print(len(test_files))\n",
    "        train_files = all_img_paths\n",
    "        all_img_paths = []\n",
    "        #print(len(train_files))\n",
    "        for valid_file in valid_files:\n",
    "            valid_file_abs = os.path.join(os.getcwd(),valid_file)\n",
    "            #print(\"move: '\" + valid_file_abs + \"' to: '\" + os.path.join(img_path,\"valid\",directories[ii]))\n",
    "            shutil.move(valid_file_abs, os.path.join(img_path,\"valid\",directories[ii]))\n",
    "        for test_file in test_files:\n",
    "            test_file_abs = os.path.join(os.getcwd(),test_file)\n",
    "            #print(\"move: '\" + test_file_abs + \"' to: '\" + os.path.join(img_path,\"test\",directories[ii]))\n",
    "            shutil.move(test_file_abs, os.path.join(img_path,\"test\",directories[ii]))\n",
    "        \n",
    "\n",
    "valid_pct = 0.01 # 0.1\n",
    "test_pct = 0.98 # 0.1       \n",
    "print(directories)\n",
    "print(per_label_count_downsampled)\n",
    "split_train_valid_test(directories, per_label_count_downsampled, valid_pct, test_pct)"
   ]
  },
  {
   "cell_type": "code",
   "execution_count": null,
   "metadata": {},
   "outputs": [],
   "source": [
    "train_datagen = ImageDataGenerator(\n",
    "    #rescale=1./255,\n",
    "    #shear_range=0.2,\n",
    "    #zoom_range=0.2,\n",
    "    #horizontal_flip=True, \n",
    "    preprocessing_function=preprocess_input\n",
    ")\n",
    "\n",
    "test_datagen = ImageDataGenerator(\n",
    "    preprocessing_function=preprocess_input\n",
    ")\n",
    "\n",
    "batch_size = 32\n",
    "\n",
    "train_generator = train_datagen.flow_from_directory(\n",
    "    'data/xray_chest/images/train',\n",
    "    target_size=(img_height, img_width),\n",
    "    batch_size=batch_size,\n",
    "    class_mode='categorical')\n",
    "    #color_mode='grayscale')\n",
    "\n",
    "validation_generator = test_datagen.flow_from_directory(\n",
    "    'data/xray_chest/images/valid',\n",
    "    target_size=(img_height, img_width),\n",
    "    batch_size=batch_size, #val_batch_size,\n",
    "    class_mode='categorical')\n",
    "    \n",
    "test_generator = test_datagen.flow_from_directory(\n",
    "    'data/xray_chest/images/test',\n",
    "    target_size=(img_height, img_width),\n",
    "    batch_size=batch_size,\n",
    "    class_mode='categorical')"
   ]
  },
  {
   "cell_type": "code",
   "execution_count": null,
   "metadata": {},
   "outputs": [],
   "source": [
    "model = DenseNet121(include_top=True, weights=None, input_shape=(img_width,img_height,3), classes=2)\n",
    "model.summary()"
   ]
  },
  {
   "cell_type": "code",
   "execution_count": null,
   "metadata": {},
   "outputs": [],
   "source": [
    "#model.load_weights('weights.best.DenseNet121-nih-one-v-all-fibrosis.20180305-r1.hdf5')"
   ]
  },
  {
   "cell_type": "code",
   "execution_count": null,
   "metadata": {},
   "outputs": [],
   "source": [
    "model.compile(loss='categorical_crossentropy', optimizer=optimizers.SGD(lr=0.1, momentum=0.9, nesterov=True), metrics=['accuracy'])"
   ]
  },
  {
   "cell_type": "code",
   "execution_count": null,
   "metadata": {},
   "outputs": [],
   "source": [
    "filepath=\"weights.best.DenseNet121-nih-one-v-all-fibrosis.20180305-r1.hdf5\"\n",
    "checkpoint = ModelCheckpoint(filepath, monitor='val_loss', verbose=1, save_best_only=True, mode='min') #mode='max')\n",
    "early_stopping = EarlyStopping(monitor='val_loss', patience=500)\n",
    "callbacks_list = [checkpoint,early_stopping]#,tensorboard]"
   ]
  },
  {
   "cell_type": "markdown",
   "metadata": {},
   "source": [
    "Initial dataset modified to work with this dataset."
   ]
  },
  {
   "cell_type": "code",
   "execution_count": 3,
   "metadata": {},
   "outputs": [],
   "source": [
    "# Final image resolution\n",
    "res = 64\n",
    "\n",
    "# Crop images to squares\n",
    "def to_square(img):\n",
    "    (h, w) = img.shape\n",
    "    diff_half = np.abs(h-w) // 2\n",
    "    \n",
    "    if w > h:\n",
    "        return(img[0:h, 0+diff_half:w-diff_half])\n",
    "    elif w < h:\n",
    "        return(img[0+diff_half:w-diff_half, 0:w])\n",
    "    else: \n",
    "        return img\n",
    "\n",
    "def load_data(dataset='train'):\n",
    "    \n",
    "    # Path where files are stored\n",
    "    files_path = 'data/xray_chest/images/'+dataset\n",
    "    \n",
    "    #--- STEP 1: Create list containing names of image files ---#\n",
    "    names_list = []\n",
    "    for cat in ['/ALL', '/Pneumonia']:\n",
    "        for img_name in os.listdir(files_path+cat):\n",
    "            # Exclude non-image files\n",
    "            if img_name[0] in ['I', 'N', 'p']:\n",
    "                names_list.append(img_name)\n",
    "    # Shuffle to feed into network\n",
    "    random.Random(232).shuffle(names_list)\n",
    "    \n",
    "    #--- STEP 2: Create list of labels ---#\n",
    "    labels = []\n",
    "    for img_name in names_list:\n",
    "        # 0 for normal, 1 for pneumonia\n",
    "        if img_name[0] in ['I', 'N']:\n",
    "            labels.append(0)\n",
    "        elif img_name[0] == 'p':\n",
    "            labels.append(1)\n",
    "            \n",
    "    #--- STEP 3: Load images and process them ---#\n",
    "    img_list = []\n",
    "    for img_name in tqdm(names_list):\n",
    "        try:\n",
    "            # Load images \n",
    "            if img_name[0] in ['I', 'N']:\n",
    "                img = plt.imread(files_path+'/ALL/'+img_name)\n",
    "            elif img_name[0] == 'p':\n",
    "                img = plt.imread(files_path+'/Pneumonia/'+img_name)\n",
    "                \n",
    "            # Process images (normalize, square, reduce resolution)\n",
    "            if len(img.shape) == 3:\n",
    "                img = img[:,:,0]\n",
    "            img = img / 255\n",
    "            img = to_square(img)\n",
    "            img = cv2.resize(img, dsize=(res, res), interpolation=cv2.INTER_AREA)\n",
    "            img = img.reshape(res, res, 1)\n",
    "            img = np.dstack([img, img, img])\n",
    "            img_list.append(img)\n",
    "        except OSError:\n",
    "            pass\n",
    "    \n",
    "    return np.array(img_list), np.array(labels)"
   ]
  },
  {
   "cell_type": "code",
   "execution_count": 4,
   "metadata": {},
   "outputs": [
    {
     "name": "stderr",
     "output_type": "stream",
     "text": [
      "                  \r"
     ]
    }
   ],
   "source": [
    "# Load data into each dataset pair\n",
    "x_train, y_train = load_data(dataset='train')\n",
    "x_val, y_val = load_data(dataset='valid')\n",
    "x_test, y_test = load_data(dataset='test')"
   ]
  },
  {
   "cell_type": "code",
   "execution_count": 5,
   "metadata": {},
   "outputs": [
    {
     "ename": "IndexError",
     "evalue": "index 0 is out of bounds for axis 0 with size 0",
     "output_type": "error",
     "traceback": [
      "\u001b[0;31m---------------------------------------------------------------------------\u001b[0m",
      "\u001b[0;31mIndexError\u001b[0m                                Traceback (most recent call last)",
      "\u001b[0;32m<ipython-input-5-614047ec5bff>\u001b[0m in \u001b[0;36m<module>\u001b[0;34m\u001b[0m\n\u001b[1;32m      5\u001b[0m \u001b[0;34m\u001b[0m\u001b[0m\n\u001b[1;32m      6\u001b[0m \u001b[0;32mfor\u001b[0m \u001b[0mi\u001b[0m \u001b[0;32min\u001b[0m \u001b[0mrange\u001b[0m\u001b[0;34m(\u001b[0m\u001b[0max\u001b[0m\u001b[0;34m.\u001b[0m\u001b[0mshape\u001b[0m\u001b[0;34m[\u001b[0m\u001b[0;36m0\u001b[0m\u001b[0;34m]\u001b[0m\u001b[0;34m)\u001b[0m\u001b[0;34m:\u001b[0m\u001b[0;34m\u001b[0m\u001b[0;34m\u001b[0m\u001b[0m\n\u001b[0;32m----> 7\u001b[0;31m     \u001b[0max\u001b[0m\u001b[0;34m[\u001b[0m\u001b[0mi\u001b[0m\u001b[0;34m]\u001b[0m\u001b[0;34m.\u001b[0m\u001b[0mimshow\u001b[0m\u001b[0;34m(\u001b[0m\u001b[0mx_test\u001b[0m\u001b[0;34m[\u001b[0m\u001b[0mi\u001b[0m\u001b[0;34m]\u001b[0m\u001b[0;34m,\u001b[0m \u001b[0mcmap\u001b[0m\u001b[0;34m=\u001b[0m\u001b[0;34m'gray'\u001b[0m\u001b[0;34m)\u001b[0m\u001b[0;34m\u001b[0m\u001b[0;34m\u001b[0m\u001b[0m\n\u001b[0m\u001b[1;32m      8\u001b[0m     \u001b[0max\u001b[0m\u001b[0;34m[\u001b[0m\u001b[0mi\u001b[0m\u001b[0;34m]\u001b[0m\u001b[0;34m.\u001b[0m\u001b[0mset_title\u001b[0m\u001b[0;34m(\u001b[0m\u001b[0;34m'label = {}'\u001b[0m\u001b[0;34m.\u001b[0m\u001b[0mformat\u001b[0m\u001b[0;34m(\u001b[0m\u001b[0my_test\u001b[0m\u001b[0;34m[\u001b[0m\u001b[0mi\u001b[0m\u001b[0;34m]\u001b[0m\u001b[0;34m)\u001b[0m\u001b[0;34m)\u001b[0m\u001b[0;34m\u001b[0m\u001b[0;34m\u001b[0m\u001b[0m\n",
      "\u001b[0;31mIndexError\u001b[0m: index 0 is out of bounds for axis 0 with size 0"
     ]
    },
    {
     "data": {
      "image/png": "[encoded data removed]",
      "text/plain": [
       "<Figure size 2160x720 with 10 Axes>"
      ]
     },
     "metadata": {
      "needs_background": "light"
     },
     "output_type": "display_data"
    }
   ],
   "source": [
    "# Visualizing xrays\n",
    "fig, ax = plt.subplots(nrows=2, ncols=5, figsize=(30, 10))\n",
    "ax = ax.ravel()\n",
    "plt.tight_layout(h_pad=3)\n",
    "\n",
    "for i in range(ax.shape[0]):\n",
    "    ax[i].imshow(x_test[i], cmap='gray')\n",
    "    ax[i].set_title('label = {}'.format(y_test[i]))"
   ]
  },
  {
   "cell_type": "code",
   "execution_count": null,
   "metadata": {},
   "outputs": [],
   "source": [
    "# Model parameters\n",
    "ks33 = (3, 3)\n",
    "ks22 = (2, 2)"
   ]
  },
  {
   "cell_type": "code",
   "execution_count": null,
   "metadata": {},
   "outputs": [],
   "source": [
    "# Design model with Keras Functional API \n",
    "inputs = Input(shape=(res, res, 3))\n",
    "\n",
    "# Convolutional layer 1\n",
    "conv1 = Conv2D(filters=16, kernel_size=ks33, activation='relu', padding='same')(inputs)\n",
    "conv1 = Conv2D(filters=16, kernel_size=ks33, activation='relu', padding='same')(conv1)\n",
    "conv1 = MaxPool2D(pool_size=(2, 2))(conv1)\n",
    "\n",
    "# Convolutional layer 2\n",
    "conv2 = Conv2D(filters=32, kernel_size=ks33, activation='relu', padding='same')(conv1)\n",
    "conv2 = Conv2D(filters=32, kernel_size=ks33, activation='relu', padding='same')(conv2)\n",
    "conv2 = BatchNormalization()(conv2)\n",
    "conv2 = MaxPool2D(pool_size=(2, 2))(conv2)\n",
    "\n",
    "# Convolutional layer 3\n",
    "conv3 = Conv2D(filters=64, kernel_size=ks33, activation='relu', padding='same')(conv2)\n",
    "conv3 = Conv2D(filters=64, kernel_size=ks33, activation='relu', padding='same')(conv3)\n",
    "conv3 = BatchNormalization()(conv3)\n",
    "conv3 = MaxPool2D(pool_size=(2, 2))(conv3)\n",
    "\n",
    "# Fully-Connected layer\n",
    "fc = Flatten()(conv3)\n",
    "fc = Dense(units=256, activation='relu')(fc)\n",
    "fc = Dropout(rate=0.5)(fc)\n",
    "fc = Dense(units=64, activation='relu')(fc)\n",
    "fc = Dropout(rate=0.2)(fc)\n",
    "\n",
    "# Output\n",
    "output = Dense(units=1, activation='sigmoid')(fc)\n",
    "\n",
    "# Create model and compile\n",
    "model = Model(inputs=inputs, outputs=output)\n",
    "model.compile(optimizer='adam', loss='binary_crossentropy', metrics=['accuracy'])"
   ]
  },
  {
   "cell_type": "code",
   "execution_count": null,
   "metadata": {},
   "outputs": [],
   "source": [
    "# Model summary\n",
    "print(model.summary())"
   ]
  },
  {
   "cell_type": "code",
   "execution_count": null,
   "metadata": {},
   "outputs": [],
   "source": [
    "# Callbacks and image preprocessing\n",
    "\n",
    "reduce_lr = ReduceLROnPlateau(monitor='val_loss', factor=0.3, patience=2, verbose=2, mode='max')\n",
    "img_aug = ImageDataGenerator(rotation_range=20, vertical_flip=True, horizontal_flip=True)\n",
    "img_aug.fit(x_train)"
   ]
  },
  {
   "cell_type": "code",
   "execution_count": null,
   "metadata": {},
   "outputs": [],
   "source": [
    "# Hyperparameters for fitting\n",
    "batch_size = 74\n",
    "epochs = 40\n",
    "steps = x_train.shape[0] // batch_size\n",
    "\n",
    "# Fitting model to data (val set too small, use test for validation)\n",
    "model.fit_generator(img_aug.flow(x_train, y_train, batch_size=batch_size), \n",
    "                    steps_per_epoch=steps, epochs=epochs, \n",
    "                    validation_data=(x_test, y_test), callbacks=[reduce_lr], \n",
    "                    verbose=1)"
   ]
  },
  {
   "cell_type": "code",
   "execution_count": null,
   "metadata": {},
   "outputs": [],
   "source": [
    "# Metrics\n",
    "\n",
    "# Getting predictions\n",
    "predictions = model.predict(x=x_test)\n",
    "\n",
    "acc = accuracy_score(y_test, np.round(predictions))*100\n",
    "tn, fp, fn, tp = confusion_matrix(y_test, np.round(predictions)).ravel()\n",
    "\n",
    "print('Accuracy: {}%'.format(acc))\n",
    "print('Precision: {}%'.format(tp/(tp+fp)*100))\n",
    "print('Recall: {}%'.format(tp/(tp+fn)*100))"
   ]
  },
  {
   "cell_type": "code",
   "execution_count": null,
   "metadata": {},
   "outputs": [],
   "source": [
    "print(confusion_matrix(y_test, np.round(predictions)).ravel())"
   ]
  },
  {
   "cell_type": "code",
   "execution_count": null,
   "metadata": {},
   "outputs": [],
   "source": []
  },
  {
   "cell_type": "markdown",
   "metadata": {},
   "source": [
    "Back to orginal code"
   ]
  },
  {
   "cell_type": "code",
   "execution_count": null,
   "metadata": {},
   "outputs": [],
   "source": [
    "#nb_train_samples = 16188 #8094 #3036 #18046 #111589 #113243 #139987 \n",
    "nb_train_samples = 88\n",
    "nb_validation_samples= 336 \n",
    "epochs = int(nb_train_samples/batch_size)*3\n",
    "history = model.fit_generator(\n",
    "    train_generator,\n",
    "    steps_per_epoch=batch_size, #nb_train_samples/batch_size,\n",
    "    epochs=epochs,\n",
    "    validation_data=validation_generator,\n",
    "    validation_steps=batch_size, #nb_validation_samples/batch_size, #val_batch_size,\n",
    "    callbacks=callbacks_list,\n",
    "    verbose=1)"
   ]
  },
  {
   "cell_type": "code",
   "execution_count": null,
   "metadata": {},
   "outputs": [],
   "source": [
    "def plot_history(history):\n",
    "    plt.plot(history.history['loss'],'r--')\n",
    "    plt.plot(history.history['val_loss'],'b-')\n",
    "    plt.title('Model Loss')\n",
    "    plt.legend(['Train Loss', 'Valid Loss'])\n",
    "    plt.xlabel('Epoch')\n",
    "    plt.ylabel('Loss')\n",
    "    plt.show();\n",
    "    plt.plot(history.history['acc'],'r--')\n",
    "    plt.plot(history.history['val_acc'],'b-')\n",
    "    plt.title('Model Accuracy')\n",
    "    plt.legend(['Train Acc', 'Valid Acc'])\n",
    "    plt.ylabel('Accuracy')\n",
    "    plt.xlabel('Epoch')\n",
    "    plt.show()\n",
    "\n",
    "# requires history=model.fit, fit_generator...\n",
    "plot_history(history)"
   ]
  },
  {
   "cell_type": "code",
   "execution_count": null,
   "metadata": {},
   "outputs": [],
   "source": [
    "scores = model.evaluate_generator(test_generator, steps=10, max_queue_size=10, workers=1, use_multiprocessing=False)\n",
    "print(\"score = Loss: %f, Acc@1: %.2f\" % (scores[0],scores[1]))"
   ]
  },
  {
   "cell_type": "code",
   "execution_count": null,
   "metadata": {},
   "outputs": [],
   "source": [
    "preds = model.predict_generator(test_generator, steps=10, max_queue_size=10, workers=1, use_multiprocessing=False)\n",
    "preds.shape"
   ]
  },
  {
   "cell_type": "code",
   "execution_count": null,
   "metadata": {},
   "outputs": [],
   "source": [
    "#print(test_generator.classes)\n",
    "steps = 11 #int(SIZE?/batch_size)\n",
    "preds = np.zeros((0,2))\n",
    "y_test = np.zeros((0,2))\n",
    "step_count = 0\n",
    "for batch_x, batch_y in test_generator:\n",
    "    if step_count < steps:\n",
    "        batch_preds = model.predict(batch_x)\n",
    "        #print(batch_preds.shape)\n",
    "        preds = np.vstack((preds,batch_preds))\n",
    "        #print(batch_y)\n",
    "        y_test = np.vstack((y_test,batch_y))\n",
    "        step_count = step_count + 1\n",
    "    else:\n",
    "        break\n",
    "        \n",
    "print(preds.shape)\n",
    "print(y_test.shape)"
   ]
  },
  {
   "cell_type": "code",
   "execution_count": null,
   "metadata": {},
   "outputs": [],
   "source": [
    "y_trues = [np.argmax(ii) for ii in y_test]\n",
    "y_preds = [np.argmax(ii) for ii in preds]\n",
    "\n",
    "# credit: https://tatwan.github.io/How-To-Plot-A-Confusion-Matrix-In-Python/    \n",
    "def plot_binary_confusion_matrix(cm, classes,\n",
    "                          normalize=False,\n",
    "                          title='Confusion matrix',\n",
    "                          cmap=plt.cm.Blues):\n",
    "    plt.imshow(cm, interpolation='nearest', cmap=cmap)\n",
    "    classNames = classes\n",
    "    plt.title(title)\n",
    "    plt.ylabel('True label')\n",
    "    plt.xlabel('Predicted label')\n",
    "    tick_marks = np.arange(len(classNames))\n",
    "    plt.xticks(tick_marks, classNames, rotation=45)\n",
    "    plt.yticks(tick_marks, classNames)\n",
    "    s = [['TN','FP'], ['FN', 'TP']]\n",
    "    for i in range(2):\n",
    "        for j in range(2):\n",
    "            plt.text(j,i, str(s[i][j])+\" = \"+str(cm[i][j]))\n",
    "    \n",
    "cm = confusion_matrix(y_trues, y_preds)\n",
    "#print(cm)\n",
    "tn, fp, fn, tp = cm.ravel()\n",
    "#print(tn, fp, fn, tp)\n",
    "\n",
    "# Plot non-normalized confusion matrix\n",
    "plt.figure()\n",
    "plot_binary_confusion_matrix(cm, classes=['Negative','Positive'], title='Confusion matrix, without normalization', cmap=plt.cm.Greens)\n",
    "plt.show()"
   ]
  }
 ],
 "metadata": {
  "kernelspec": {
   "display_name": "Python 3",
   "language": "python",
   "name": "python3"
  },
  "language_info": {
   "codemirror_mode": {
    "name": "ipython",
    "version": 3
   },
   "file_extension": ".py",
   "mimetype": "text/x-python",
   "name": "python",
   "nbconvert_exporter": "python",
   "pygments_lexer": "ipython3",
   "version": "3.7.3"
  }
 },
 "nbformat": 4,
 "nbformat_minor": 2
}
